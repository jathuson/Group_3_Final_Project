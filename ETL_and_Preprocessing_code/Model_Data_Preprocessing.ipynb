{
 "cells": [
  {
   "cell_type": "code",
   "execution_count": 32,
   "metadata": {
    "colab": {
     "base_uri": "https://localhost:8080/",
     "height": 339
    },
    "id": "4OKrJk-8YA7O",
    "outputId": "3da9e156-01c3-4a87-821b-88d6aca9aca9"
   },
   "outputs": [],
   "source": [
    "# Initial imports.\n",
    "import pandas as pd\n",
    "\n",
    "from sklearn.ensemble import RandomForestClassifier\n",
    "from sklearn.preprocessing import StandardScaler\n",
    "from sklearn.model_selection import train_test_split\n",
    "from sklearn.metrics import confusion_matrix, accuracy_score, classification_report\n",
    "\n",
    "import os\n",
    "\n",
    "import sqlite3 \n",
    "import sqlalchemy as db\n",
    "\n",
    "import numpy as np\n",
    "from config import db_password\n",
    "import time"
   ]
  },
  {
   "cell_type": "code",
   "execution_count": 27,
   "metadata": {
    "colab": {
     "base_uri": "https://localhost:8080/"
    },
    "id": "Fhxlns1sYJjf",
    "outputId": "24f5d14d-1ef9-4a28-cfed-e1b96b8dc704"
   },
   "outputs": [],
   "source": [
    "from sqlalchemy import create_engine\n",
    "\n",
    "# Add the code to create the connection to the PostgreSQL database, then add the movies_df DataFrame to a SQL database:\n",
    "# db_string = f\"postgres://postgresql://{db_password}@127.0.0.1:5433/movie_data\"\n",
    "hostname = \"bootcamp-group-3.cn5djhczpkaa.us-east-1.rds.amazonaws.com\"\n",
    "database = 'Bootcamp_Group_3'\n",
    "connection_string = f\"postgresql://root:{db_password}@{hostname}/{database}\"\n",
    "\n",
    "engine = create_engine(connection_string)"
   ]
  },
  {
   "cell_type": "code",
   "execution_count": 3,
   "metadata": {
    "id": "d7o0jPWiYRuF"
   },
   "outputs": [],
   "source": [
    "from sqlalchemy import inspect"
   ]
  },
  {
   "cell_type": "code",
   "execution_count": 4,
   "metadata": {
    "colab": {
     "base_uri": "https://localhost:8080/"
    },
    "id": "fMii0dEeYVpy",
    "outputId": "a9da90e7-e5e3-4988-cdc7-4af32b37667c"
   },
   "outputs": [
    {
     "data": {
      "text/plain": [
       "['Links',\n",
       " 'Tags',\n",
       " 'Movies',\n",
       " 'Ratings',\n",
       " 'Genome_Scores',\n",
       " 'Genome_Tags',\n",
       " 'tableau_database',\n",
       " 'tableau_database_light',\n",
       " 'tableau_database2',\n",
       " 'tableau_dataset',\n",
       " 'tableau_final']"
      ]
     },
     "execution_count": 4,
     "metadata": {},
     "output_type": "execute_result"
    }
   ],
   "source": [
    "insp = inspect(engine)\n",
    "insp.get_table_names()"
   ]
  },
  {
   "cell_type": "code",
   "execution_count": 5,
   "metadata": {
    "id": "AaOcPCVCYcJU"
   },
   "outputs": [],
   "source": [
    "movies = pd.read_sql('SELECT * from \"Movies\" ', engine)"
   ]
  },
  {
   "cell_type": "code",
   "execution_count": 6,
   "metadata": {
    "colab": {
     "base_uri": "https://localhost:8080/"
    },
    "id": "nkWduY6SYfGq",
    "outputId": "6886ae45-ee4a-4098-e4bf-99f233974a75"
   },
   "outputs": [
    {
     "data": {
      "text/plain": [
       "movieId     int64\n",
       "title      object\n",
       "genres     object\n",
       "year        int64\n",
       "dtype: object"
      ]
     },
     "execution_count": 6,
     "metadata": {},
     "output_type": "execute_result"
    }
   ],
   "source": [
    "movies.dtypes"
   ]
  },
  {
   "cell_type": "code",
   "execution_count": 7,
   "metadata": {
    "colab": {
     "base_uri": "https://localhost:8080/"
    },
    "id": "3ryNMGhKYhUa",
    "outputId": "f9e15d99-9000-4d14-ab46-abe35f1f7120"
   },
   "outputs": [
    {
     "data": {
      "text/plain": [
       "movieId    62423\n",
       "title      58577\n",
       "genres      1639\n",
       "year         136\n",
       "dtype: int64"
      ]
     },
     "execution_count": 7,
     "metadata": {},
     "output_type": "execute_result"
    }
   ],
   "source": [
    "movies.nunique()"
   ]
  },
  {
   "cell_type": "code",
   "execution_count": 8,
   "metadata": {
    "colab": {
     "base_uri": "https://localhost:8080/",
     "height": 206
    },
    "id": "eApv007jYki4",
    "outputId": "3d6bcfc5-b255-42f5-9513-9f0bd5dfc86c"
   },
   "outputs": [
    {
     "data": {
      "text/html": [
       "<div>\n",
       "<style scoped>\n",
       "    .dataframe tbody tr th:only-of-type {\n",
       "        vertical-align: middle;\n",
       "    }\n",
       "\n",
       "    .dataframe tbody tr th {\n",
       "        vertical-align: top;\n",
       "    }\n",
       "\n",
       "    .dataframe thead th {\n",
       "        text-align: right;\n",
       "    }\n",
       "</style>\n",
       "<table border=\"1\" class=\"dataframe\">\n",
       "  <thead>\n",
       "    <tr style=\"text-align: right;\">\n",
       "      <th></th>\n",
       "      <th>movieId</th>\n",
       "      <th>title</th>\n",
       "      <th>genres</th>\n",
       "      <th>year</th>\n",
       "    </tr>\n",
       "  </thead>\n",
       "  <tbody>\n",
       "    <tr>\n",
       "      <th>0</th>\n",
       "      <td>1</td>\n",
       "      <td>Toy Story</td>\n",
       "      <td>Adventure, Animation, Children, Comedy, Fantasy</td>\n",
       "      <td>1995</td>\n",
       "    </tr>\n",
       "    <tr>\n",
       "      <th>1</th>\n",
       "      <td>2</td>\n",
       "      <td>Jumanji</td>\n",
       "      <td>Adventure, Children, Fantasy</td>\n",
       "      <td>1995</td>\n",
       "    </tr>\n",
       "    <tr>\n",
       "      <th>2</th>\n",
       "      <td>3</td>\n",
       "      <td>Grumpier Old Men</td>\n",
       "      <td>Comedy, Romance</td>\n",
       "      <td>1995</td>\n",
       "    </tr>\n",
       "    <tr>\n",
       "      <th>3</th>\n",
       "      <td>4</td>\n",
       "      <td>Waiting to Exhale</td>\n",
       "      <td>Comedy, Drama, Romance</td>\n",
       "      <td>1995</td>\n",
       "    </tr>\n",
       "    <tr>\n",
       "      <th>4</th>\n",
       "      <td>5</td>\n",
       "      <td>Father of the Bride Part II</td>\n",
       "      <td>Comedy</td>\n",
       "      <td>1995</td>\n",
       "    </tr>\n",
       "  </tbody>\n",
       "</table>\n",
       "</div>"
      ],
      "text/plain": [
       "   movieId                         title  \\\n",
       "0        1                    Toy Story    \n",
       "1        2                      Jumanji    \n",
       "2        3             Grumpier Old Men    \n",
       "3        4            Waiting to Exhale    \n",
       "4        5  Father of the Bride Part II    \n",
       "\n",
       "                                            genres  year  \n",
       "0  Adventure, Animation, Children, Comedy, Fantasy  1995  \n",
       "1                     Adventure, Children, Fantasy  1995  \n",
       "2                                  Comedy, Romance  1995  \n",
       "3                           Comedy, Drama, Romance  1995  \n",
       "4                                           Comedy  1995  "
      ]
     },
     "execution_count": 8,
     "metadata": {},
     "output_type": "execute_result"
    }
   ],
   "source": [
    "movies.head()"
   ]
  },
  {
   "cell_type": "code",
   "execution_count": 9,
   "metadata": {
    "id": "5G2LEHq9YlnT"
   },
   "outputs": [],
   "source": [
    "ratings = pd.read_sql('SELECT * from \"Ratings\" ', engine)"
   ]
  },
  {
   "cell_type": "code",
   "execution_count": 10,
   "metadata": {
    "colab": {
     "base_uri": "https://localhost:8080/"
    },
    "id": "eBbaZxE4agri",
    "outputId": "33a2d1c2-9588-4e55-b674-a642fcda1a6f"
   },
   "outputs": [
    {
     "data": {
      "text/plain": [
       "userId         int64\n",
       "movieId        int64\n",
       "rating       float64\n",
       "timestamp     object\n",
       "dtype: object"
      ]
     },
     "execution_count": 10,
     "metadata": {},
     "output_type": "execute_result"
    }
   ],
   "source": [
    "ratings.dtypes"
   ]
  },
  {
   "cell_type": "code",
   "execution_count": 11,
   "metadata": {
    "colab": {
     "base_uri": "https://localhost:8080/"
    },
    "id": "FgjkOIhNbb1_",
    "outputId": "35717ecd-173a-4b54-ff04-e71c65066c97"
   },
   "outputs": [
    {
     "data": {
      "text/plain": [
       "userId         162541\n",
       "movieId         59047\n",
       "rating             10\n",
       "timestamp    20115267\n",
       "dtype: int64"
      ]
     },
     "execution_count": 11,
     "metadata": {},
     "output_type": "execute_result"
    }
   ],
   "source": [
    "ratings.nunique()"
   ]
  },
  {
   "cell_type": "code",
   "execution_count": 12,
   "metadata": {
    "colab": {
     "base_uri": "https://localhost:8080/",
     "height": 206
    },
    "id": "mGvG5PUhbb4L",
    "outputId": "4fcd739b-1b93-482b-ac01-9c0eafb25141"
   },
   "outputs": [
    {
     "data": {
      "text/html": [
       "<div>\n",
       "<style scoped>\n",
       "    .dataframe tbody tr th:only-of-type {\n",
       "        vertical-align: middle;\n",
       "    }\n",
       "\n",
       "    .dataframe tbody tr th {\n",
       "        vertical-align: top;\n",
       "    }\n",
       "\n",
       "    .dataframe thead th {\n",
       "        text-align: right;\n",
       "    }\n",
       "</style>\n",
       "<table border=\"1\" class=\"dataframe\">\n",
       "  <thead>\n",
       "    <tr style=\"text-align: right;\">\n",
       "      <th></th>\n",
       "      <th>userId</th>\n",
       "      <th>movieId</th>\n",
       "      <th>rating</th>\n",
       "      <th>timestamp</th>\n",
       "    </tr>\n",
       "  </thead>\n",
       "  <tbody>\n",
       "    <tr>\n",
       "      <th>0</th>\n",
       "      <td>157954</td>\n",
       "      <td>1198</td>\n",
       "      <td>5.0</td>\n",
       "      <td>2001-06-19 17:07:43</td>\n",
       "    </tr>\n",
       "    <tr>\n",
       "      <th>1</th>\n",
       "      <td>157954</td>\n",
       "      <td>1199</td>\n",
       "      <td>4.0</td>\n",
       "      <td>2001-06-19 17:46:44</td>\n",
       "    </tr>\n",
       "    <tr>\n",
       "      <th>2</th>\n",
       "      <td>157954</td>\n",
       "      <td>1200</td>\n",
       "      <td>5.0</td>\n",
       "      <td>2001-06-19 17:08:37</td>\n",
       "    </tr>\n",
       "    <tr>\n",
       "      <th>3</th>\n",
       "      <td>157954</td>\n",
       "      <td>1201</td>\n",
       "      <td>3.0</td>\n",
       "      <td>2001-06-19 17:09:36</td>\n",
       "    </tr>\n",
       "    <tr>\n",
       "      <th>4</th>\n",
       "      <td>157954</td>\n",
       "      <td>1204</td>\n",
       "      <td>3.0</td>\n",
       "      <td>2001-06-19 17:35:23</td>\n",
       "    </tr>\n",
       "  </tbody>\n",
       "</table>\n",
       "</div>"
      ],
      "text/plain": [
       "   userId  movieId  rating            timestamp\n",
       "0  157954     1198     5.0  2001-06-19 17:07:43\n",
       "1  157954     1199     4.0  2001-06-19 17:46:44\n",
       "2  157954     1200     5.0  2001-06-19 17:08:37\n",
       "3  157954     1201     3.0  2001-06-19 17:09:36\n",
       "4  157954     1204     3.0  2001-06-19 17:35:23"
      ]
     },
     "execution_count": 12,
     "metadata": {},
     "output_type": "execute_result"
    }
   ],
   "source": [
    "ratings.head()"
   ]
  },
  {
   "cell_type": "code",
   "execution_count": 13,
   "metadata": {
    "id": "UX8babgrbb6k"
   },
   "outputs": [],
   "source": [
    "# Merge ratings and movie database\n",
    "mergedratings_df = pd.merge(ratings,movies,on='movieId', how='left')"
   ]
  },
  {
   "cell_type": "code",
   "execution_count": 14,
   "metadata": {
    "colab": {
     "base_uri": "https://localhost:8080/",
     "height": 250
    },
    "id": "Innlbj21bb_T",
    "outputId": "cc5ddb9f-7520-4ed6-ed69-a50a0f946bb5"
   },
   "outputs": [
    {
     "data": {
      "text/html": [
       "<div>\n",
       "<style scoped>\n",
       "    .dataframe tbody tr th:only-of-type {\n",
       "        vertical-align: middle;\n",
       "    }\n",
       "\n",
       "    .dataframe tbody tr th {\n",
       "        vertical-align: top;\n",
       "    }\n",
       "\n",
       "    .dataframe thead th {\n",
       "        text-align: right;\n",
       "    }\n",
       "</style>\n",
       "<table border=\"1\" class=\"dataframe\">\n",
       "  <thead>\n",
       "    <tr style=\"text-align: right;\">\n",
       "      <th></th>\n",
       "      <th>userId</th>\n",
       "      <th>movieId</th>\n",
       "      <th>rating</th>\n",
       "      <th>timestamp</th>\n",
       "      <th>title</th>\n",
       "      <th>genres</th>\n",
       "      <th>year</th>\n",
       "    </tr>\n",
       "  </thead>\n",
       "  <tbody>\n",
       "    <tr>\n",
       "      <th>0</th>\n",
       "      <td>157954</td>\n",
       "      <td>1198</td>\n",
       "      <td>5.0</td>\n",
       "      <td>2001-06-19 17:07:43</td>\n",
       "      <td>Raiders of the Lost Ark (Indiana Jones and the...</td>\n",
       "      <td>Action, Adventure</td>\n",
       "      <td>1981</td>\n",
       "    </tr>\n",
       "    <tr>\n",
       "      <th>1</th>\n",
       "      <td>157954</td>\n",
       "      <td>1199</td>\n",
       "      <td>4.0</td>\n",
       "      <td>2001-06-19 17:46:44</td>\n",
       "      <td>Brazil</td>\n",
       "      <td>Fantasy, Sci-Fi</td>\n",
       "      <td>1985</td>\n",
       "    </tr>\n",
       "    <tr>\n",
       "      <th>2</th>\n",
       "      <td>157954</td>\n",
       "      <td>1200</td>\n",
       "      <td>5.0</td>\n",
       "      <td>2001-06-19 17:08:37</td>\n",
       "      <td>Aliens</td>\n",
       "      <td>Action, Adventure, Horror, Sci-Fi</td>\n",
       "      <td>1986</td>\n",
       "    </tr>\n",
       "    <tr>\n",
       "      <th>3</th>\n",
       "      <td>157954</td>\n",
       "      <td>1201</td>\n",
       "      <td>3.0</td>\n",
       "      <td>2001-06-19 17:09:36</td>\n",
       "      <td>Good, the Bad and the Ugly, The (Buono, il bru...</td>\n",
       "      <td>Action, Adventure, Western</td>\n",
       "      <td>1966</td>\n",
       "    </tr>\n",
       "    <tr>\n",
       "      <th>4</th>\n",
       "      <td>157954</td>\n",
       "      <td>1204</td>\n",
       "      <td>3.0</td>\n",
       "      <td>2001-06-19 17:35:23</td>\n",
       "      <td>Lawrence of Arabia</td>\n",
       "      <td>Adventure, Drama, War</td>\n",
       "      <td>1962</td>\n",
       "    </tr>\n",
       "  </tbody>\n",
       "</table>\n",
       "</div>"
      ],
      "text/plain": [
       "   userId  movieId  rating            timestamp  \\\n",
       "0  157954     1198     5.0  2001-06-19 17:07:43   \n",
       "1  157954     1199     4.0  2001-06-19 17:46:44   \n",
       "2  157954     1200     5.0  2001-06-19 17:08:37   \n",
       "3  157954     1201     3.0  2001-06-19 17:09:36   \n",
       "4  157954     1204     3.0  2001-06-19 17:35:23   \n",
       "\n",
       "                                               title  \\\n",
       "0  Raiders of the Lost Ark (Indiana Jones and the...   \n",
       "1                                            Brazil    \n",
       "2                                            Aliens    \n",
       "3  Good, the Bad and the Ugly, The (Buono, il bru...   \n",
       "4                                Lawrence of Arabia    \n",
       "\n",
       "                              genres  year  \n",
       "0                  Action, Adventure  1981  \n",
       "1                    Fantasy, Sci-Fi  1985  \n",
       "2  Action, Adventure, Horror, Sci-Fi  1986  \n",
       "3         Action, Adventure, Western  1966  \n",
       "4              Adventure, Drama, War  1962  "
      ]
     },
     "execution_count": 14,
     "metadata": {},
     "output_type": "execute_result"
    }
   ],
   "source": [
    "mergedratings_df.head()"
   ]
  },
  {
   "cell_type": "code",
   "execution_count": 15,
   "metadata": {
    "id": "N4lqCLZ4bcMl"
   },
   "outputs": [],
   "source": [
    "mergedratings_df['timestamp']=pd.to_datetime(mergedratings_df['timestamp'],format='%Y-%m-%d %H:%M:%S.%f')"
   ]
  },
  {
   "cell_type": "code",
   "execution_count": 16,
   "metadata": {
    "colab": {
     "base_uri": "https://localhost:8080/",
     "height": 250
    },
    "id": "CM7Oj4MHbcRh",
    "outputId": "25450db2-b186-4e5d-8d3a-8d3453ed4867"
   },
   "outputs": [
    {
     "data": {
      "text/html": [
       "<div>\n",
       "<style scoped>\n",
       "    .dataframe tbody tr th:only-of-type {\n",
       "        vertical-align: middle;\n",
       "    }\n",
       "\n",
       "    .dataframe tbody tr th {\n",
       "        vertical-align: top;\n",
       "    }\n",
       "\n",
       "    .dataframe thead th {\n",
       "        text-align: right;\n",
       "    }\n",
       "</style>\n",
       "<table border=\"1\" class=\"dataframe\">\n",
       "  <thead>\n",
       "    <tr style=\"text-align: right;\">\n",
       "      <th></th>\n",
       "      <th>userId</th>\n",
       "      <th>movieId</th>\n",
       "      <th>rating</th>\n",
       "      <th>timestamp</th>\n",
       "      <th>title</th>\n",
       "      <th>genres</th>\n",
       "      <th>year</th>\n",
       "    </tr>\n",
       "  </thead>\n",
       "  <tbody>\n",
       "    <tr>\n",
       "      <th>0</th>\n",
       "      <td>157954</td>\n",
       "      <td>1198</td>\n",
       "      <td>5.0</td>\n",
       "      <td>2001-06-19 17:07:43</td>\n",
       "      <td>Raiders of the Lost Ark (Indiana Jones and the...</td>\n",
       "      <td>Action, Adventure</td>\n",
       "      <td>1981</td>\n",
       "    </tr>\n",
       "    <tr>\n",
       "      <th>1</th>\n",
       "      <td>157954</td>\n",
       "      <td>1199</td>\n",
       "      <td>4.0</td>\n",
       "      <td>2001-06-19 17:46:44</td>\n",
       "      <td>Brazil</td>\n",
       "      <td>Fantasy, Sci-Fi</td>\n",
       "      <td>1985</td>\n",
       "    </tr>\n",
       "    <tr>\n",
       "      <th>2</th>\n",
       "      <td>157954</td>\n",
       "      <td>1200</td>\n",
       "      <td>5.0</td>\n",
       "      <td>2001-06-19 17:08:37</td>\n",
       "      <td>Aliens</td>\n",
       "      <td>Action, Adventure, Horror, Sci-Fi</td>\n",
       "      <td>1986</td>\n",
       "    </tr>\n",
       "    <tr>\n",
       "      <th>3</th>\n",
       "      <td>157954</td>\n",
       "      <td>1201</td>\n",
       "      <td>3.0</td>\n",
       "      <td>2001-06-19 17:09:36</td>\n",
       "      <td>Good, the Bad and the Ugly, The (Buono, il bru...</td>\n",
       "      <td>Action, Adventure, Western</td>\n",
       "      <td>1966</td>\n",
       "    </tr>\n",
       "    <tr>\n",
       "      <th>4</th>\n",
       "      <td>157954</td>\n",
       "      <td>1204</td>\n",
       "      <td>3.0</td>\n",
       "      <td>2001-06-19 17:35:23</td>\n",
       "      <td>Lawrence of Arabia</td>\n",
       "      <td>Adventure, Drama, War</td>\n",
       "      <td>1962</td>\n",
       "    </tr>\n",
       "  </tbody>\n",
       "</table>\n",
       "</div>"
      ],
      "text/plain": [
       "   userId  movieId  rating           timestamp  \\\n",
       "0  157954     1198     5.0 2001-06-19 17:07:43   \n",
       "1  157954     1199     4.0 2001-06-19 17:46:44   \n",
       "2  157954     1200     5.0 2001-06-19 17:08:37   \n",
       "3  157954     1201     3.0 2001-06-19 17:09:36   \n",
       "4  157954     1204     3.0 2001-06-19 17:35:23   \n",
       "\n",
       "                                               title  \\\n",
       "0  Raiders of the Lost Ark (Indiana Jones and the...   \n",
       "1                                            Brazil    \n",
       "2                                            Aliens    \n",
       "3  Good, the Bad and the Ugly, The (Buono, il bru...   \n",
       "4                                Lawrence of Arabia    \n",
       "\n",
       "                              genres  year  \n",
       "0                  Action, Adventure  1981  \n",
       "1                    Fantasy, Sci-Fi  1985  \n",
       "2  Action, Adventure, Horror, Sci-Fi  1986  \n",
       "3         Action, Adventure, Western  1966  \n",
       "4              Adventure, Drama, War  1962  "
      ]
     },
     "execution_count": 16,
     "metadata": {},
     "output_type": "execute_result"
    }
   ],
   "source": [
    "mergedratings_df.head()"
   ]
  },
  {
   "cell_type": "code",
   "execution_count": 17,
   "metadata": {
    "colab": {
     "base_uri": "https://localhost:8080/",
     "height": 238
    },
    "id": "xfFUsqr8fjct",
    "outputId": "85f7a82e-65e1-4144-fdcb-0be8ab3d5641"
   },
   "outputs": [
    {
     "data": {
      "text/html": [
       "<div>\n",
       "<style scoped>\n",
       "    .dataframe tbody tr th:only-of-type {\n",
       "        vertical-align: middle;\n",
       "    }\n",
       "\n",
       "    .dataframe tbody tr th {\n",
       "        vertical-align: top;\n",
       "    }\n",
       "\n",
       "    .dataframe thead th {\n",
       "        text-align: right;\n",
       "    }\n",
       "</style>\n",
       "<table border=\"1\" class=\"dataframe\">\n",
       "  <thead>\n",
       "    <tr style=\"text-align: right;\">\n",
       "      <th></th>\n",
       "      <th>movieId</th>\n",
       "      <th>rating</th>\n",
       "      <th>timestamp</th>\n",
       "      <th>title</th>\n",
       "      <th>genres</th>\n",
       "      <th>year</th>\n",
       "    </tr>\n",
       "    <tr>\n",
       "      <th>userId</th>\n",
       "      <th></th>\n",
       "      <th></th>\n",
       "      <th></th>\n",
       "      <th></th>\n",
       "      <th></th>\n",
       "      <th></th>\n",
       "    </tr>\n",
       "  </thead>\n",
       "  <tbody>\n",
       "    <tr>\n",
       "      <th>1</th>\n",
       "      <td>70</td>\n",
       "      <td>70</td>\n",
       "      <td>70</td>\n",
       "      <td>70</td>\n",
       "      <td>70</td>\n",
       "      <td>70</td>\n",
       "    </tr>\n",
       "    <tr>\n",
       "      <th>2</th>\n",
       "      <td>184</td>\n",
       "      <td>184</td>\n",
       "      <td>184</td>\n",
       "      <td>184</td>\n",
       "      <td>184</td>\n",
       "      <td>184</td>\n",
       "    </tr>\n",
       "    <tr>\n",
       "      <th>3</th>\n",
       "      <td>656</td>\n",
       "      <td>656</td>\n",
       "      <td>656</td>\n",
       "      <td>656</td>\n",
       "      <td>656</td>\n",
       "      <td>656</td>\n",
       "    </tr>\n",
       "    <tr>\n",
       "      <th>4</th>\n",
       "      <td>242</td>\n",
       "      <td>242</td>\n",
       "      <td>242</td>\n",
       "      <td>242</td>\n",
       "      <td>242</td>\n",
       "      <td>242</td>\n",
       "    </tr>\n",
       "    <tr>\n",
       "      <th>5</th>\n",
       "      <td>101</td>\n",
       "      <td>101</td>\n",
       "      <td>101</td>\n",
       "      <td>101</td>\n",
       "      <td>101</td>\n",
       "      <td>101</td>\n",
       "    </tr>\n",
       "  </tbody>\n",
       "</table>\n",
       "</div>"
      ],
      "text/plain": [
       "        movieId  rating  timestamp  title  genres  year\n",
       "userId                                                 \n",
       "1            70      70         70     70      70    70\n",
       "2           184     184        184    184     184   184\n",
       "3           656     656        656    656     656   656\n",
       "4           242     242        242    242     242   242\n",
       "5           101     101        101    101     101   101"
      ]
     },
     "execution_count": 17,
     "metadata": {},
     "output_type": "execute_result"
    }
   ],
   "source": [
    "userratingcount=mergedratings_df.groupby(['userId']).count()\n",
    "userratingcount.head()"
   ]
  },
  {
   "cell_type": "code",
   "execution_count": 18,
   "metadata": {
    "colab": {
     "base_uri": "https://localhost:8080/",
     "height": 238
    },
    "id": "t1GSX11Spw_K",
    "outputId": "d3710053-15c7-474c-d653-a66c20707624"
   },
   "outputs": [
    {
     "data": {
      "text/html": [
       "<div>\n",
       "<style scoped>\n",
       "    .dataframe tbody tr th:only-of-type {\n",
       "        vertical-align: middle;\n",
       "    }\n",
       "\n",
       "    .dataframe tbody tr th {\n",
       "        vertical-align: top;\n",
       "    }\n",
       "\n",
       "    .dataframe thead th {\n",
       "        text-align: right;\n",
       "    }\n",
       "</style>\n",
       "<table border=\"1\" class=\"dataframe\">\n",
       "  <thead>\n",
       "    <tr style=\"text-align: right;\">\n",
       "      <th></th>\n",
       "      <th>rating</th>\n",
       "      <th>timestamp</th>\n",
       "      <th>title</th>\n",
       "      <th>genres</th>\n",
       "      <th>year</th>\n",
       "    </tr>\n",
       "    <tr>\n",
       "      <th>movieId</th>\n",
       "      <th></th>\n",
       "      <th></th>\n",
       "      <th></th>\n",
       "      <th></th>\n",
       "      <th></th>\n",
       "    </tr>\n",
       "  </thead>\n",
       "  <tbody>\n",
       "    <tr>\n",
       "      <th>20</th>\n",
       "      <td>4611</td>\n",
       "      <td>4611</td>\n",
       "      <td>4611</td>\n",
       "      <td>4611</td>\n",
       "      <td>4611</td>\n",
       "    </tr>\n",
       "    <tr>\n",
       "      <th>21</th>\n",
       "      <td>3406</td>\n",
       "      <td>3406</td>\n",
       "      <td>3406</td>\n",
       "      <td>3406</td>\n",
       "      <td>3406</td>\n",
       "    </tr>\n",
       "    <tr>\n",
       "      <th>22</th>\n",
       "      <td>3112</td>\n",
       "      <td>3112</td>\n",
       "      <td>3112</td>\n",
       "      <td>3112</td>\n",
       "      <td>3112</td>\n",
       "    </tr>\n",
       "    <tr>\n",
       "      <th>23</th>\n",
       "      <td>2916</td>\n",
       "      <td>2916</td>\n",
       "      <td>2916</td>\n",
       "      <td>2916</td>\n",
       "      <td>2916</td>\n",
       "    </tr>\n",
       "    <tr>\n",
       "      <th>24</th>\n",
       "      <td>2599</td>\n",
       "      <td>2599</td>\n",
       "      <td>2599</td>\n",
       "      <td>2599</td>\n",
       "      <td>2599</td>\n",
       "    </tr>\n",
       "  </tbody>\n",
       "</table>\n",
       "</div>"
      ],
      "text/plain": [
       "         rating  timestamp  title  genres  year\n",
       "movieId                                        \n",
       "20         4611       4611   4611    4611  4611\n",
       "21         3406       3406   3406    3406  3406\n",
       "22         3112       3112   3112    3112  3112\n",
       "23         2916       2916   2916    2916  2916\n",
       "24         2599       2599   2599    2599  2599"
      ]
     },
     "execution_count": 18,
     "metadata": {},
     "output_type": "execute_result"
    }
   ],
   "source": [
    "bins = [1 , 20, 100, 250, 500, 1000,100000]\n",
    "numberofratingsperuser= userratingcount.groupby(['movieId']).count()\n",
    "numberofratingsperuser.head()"
   ]
  },
  {
   "cell_type": "code",
   "execution_count": 19,
   "metadata": {
    "colab": {
     "base_uri": "https://localhost:8080/",
     "height": 265
    },
    "id": "AjrVZIACh9Ne",
    "outputId": "cead4cbb-16c2-4e2a-960b-cfe69e62dd09"
   },
   "outputs": [
    {
     "data": {
      "image/png": "[encoded data removed]",
      "text/plain": [
       "<Figure size 432x288 with 1 Axes>"
      ]
     },
     "metadata": {
      "needs_background": "light"
     },
     "output_type": "display_data"
    }
   ],
   "source": [
    "ax = numberofratingsperuser.iloc[:,0:1].loc[numberofratingsperuser.rating<200].plot.hist(bins=25)"
   ]
  },
  {
   "cell_type": "code",
   "execution_count": 20,
   "metadata": {
    "id": "1J1C9u2woRH8"
   },
   "outputs": [],
   "source": [
    "#Filter out movies who have rated less than 100 movies \n",
    "filteredratings_df = mergedratings_df.groupby('userId').filter(lambda x: len(x)>100)"
   ]
  },
  {
   "cell_type": "code",
   "execution_count": 21,
   "metadata": {
    "colab": {
     "base_uri": "https://localhost:8080/"
    },
    "id": "1mVYEdYeqSSL",
    "outputId": "1f4f0ced-b465-473e-dc7c-83c55fddc6ab"
   },
   "outputs": [
    {
     "data": {
      "text/plain": [
       "(20316209, 7)"
      ]
     },
     "execution_count": 21,
     "metadata": {},
     "output_type": "execute_result"
    }
   ],
   "source": [
    "filteredratings_df.shape"
   ]
  },
  {
   "cell_type": "code",
   "execution_count": 22,
   "metadata": {
    "id": "5ua3ichrqsSK"
   },
   "outputs": [],
   "source": [
    "filteredratings_df = filteredratings_df.groupby('movieId').filter(lambda x: len(x)>100)"
   ]
  },
  {
   "cell_type": "code",
   "execution_count": 23,
   "metadata": {
    "colab": {
     "base_uri": "https://localhost:8080/"
    },
    "id": "3O-HCoz94grY",
    "outputId": "fb7ff6bb-c0d7-4ea6-a621-65b2f0f521e3"
   },
   "outputs": [
    {
     "data": {
      "text/plain": [
       "(19761870, 7)"
      ]
     },
     "execution_count": 23,
     "metadata": {},
     "output_type": "execute_result"
    }
   ],
   "source": [
    "filteredratings_df.shape"
   ]
  },
  {
   "cell_type": "code",
   "execution_count": 24,
   "metadata": {
    "colab": {
     "base_uri": "https://localhost:8080/"
    },
    "id": "iKq3Iy13bcUI",
    "outputId": "75404cde-84c6-4d4e-f27a-712627fe420a"
   },
   "outputs": [
    {
     "data": {
      "text/plain": [
       "0.9688941762526184"
      ]
     },
     "execution_count": 24,
     "metadata": {},
     "output_type": "execute_result"
    }
   ],
   "source": [
    "#Check sparsity of matrix\n",
    "numratings = len(filteredratings_df['rating'])\n",
    "numusers = len(filteredratings_df['userId'].unique())\n",
    "numitems = len(filteredratings_df['movieId'].unique())\n",
    "\n",
    "sparse = 1 - (numratings / (numusers*numitems))\n",
    "sparse"
   ]
  },
  {
   "cell_type": "code",
   "execution_count": 25,
   "metadata": {
    "colab": {
     "base_uri": "https://localhost:8080/",
     "height": 250
    },
    "id": "I7CiAglXffNt",
    "outputId": "c9321444-509c-4969-c0b6-350de510ef79"
   },
   "outputs": [
    {
     "data": {
      "text/html": [
       "<div>\n",
       "<style scoped>\n",
       "    .dataframe tbody tr th:only-of-type {\n",
       "        vertical-align: middle;\n",
       "    }\n",
       "\n",
       "    .dataframe tbody tr th {\n",
       "        vertical-align: top;\n",
       "    }\n",
       "\n",
       "    .dataframe thead th {\n",
       "        text-align: right;\n",
       "    }\n",
       "</style>\n",
       "<table border=\"1\" class=\"dataframe\">\n",
       "  <thead>\n",
       "    <tr style=\"text-align: right;\">\n",
       "      <th></th>\n",
       "      <th>userId</th>\n",
       "      <th>movieId</th>\n",
       "      <th>rating</th>\n",
       "      <th>timestamp</th>\n",
       "      <th>title</th>\n",
       "      <th>genres</th>\n",
       "      <th>year</th>\n",
       "    </tr>\n",
       "  </thead>\n",
       "  <tbody>\n",
       "    <tr>\n",
       "      <th>0</th>\n",
       "      <td>157954</td>\n",
       "      <td>1198</td>\n",
       "      <td>5.0</td>\n",
       "      <td>2001-06-19 17:07:43</td>\n",
       "      <td>Raiders of the Lost Ark (Indiana Jones and the...</td>\n",
       "      <td>Action,Adventure</td>\n",
       "      <td>1981</td>\n",
       "    </tr>\n",
       "    <tr>\n",
       "      <th>1</th>\n",
       "      <td>157954</td>\n",
       "      <td>1199</td>\n",
       "      <td>4.0</td>\n",
       "      <td>2001-06-19 17:46:44</td>\n",
       "      <td>Brazil</td>\n",
       "      <td>Fantasy,Sci-Fi</td>\n",
       "      <td>1985</td>\n",
       "    </tr>\n",
       "    <tr>\n",
       "      <th>2</th>\n",
       "      <td>157954</td>\n",
       "      <td>1200</td>\n",
       "      <td>5.0</td>\n",
       "      <td>2001-06-19 17:08:37</td>\n",
       "      <td>Aliens</td>\n",
       "      <td>Action,Adventure,Horror,Sci-Fi</td>\n",
       "      <td>1986</td>\n",
       "    </tr>\n",
       "    <tr>\n",
       "      <th>3</th>\n",
       "      <td>157954</td>\n",
       "      <td>1201</td>\n",
       "      <td>3.0</td>\n",
       "      <td>2001-06-19 17:09:36</td>\n",
       "      <td>Good, the Bad and the Ugly, The (Buono, il bru...</td>\n",
       "      <td>Action,Adventure,Western</td>\n",
       "      <td>1966</td>\n",
       "    </tr>\n",
       "    <tr>\n",
       "      <th>4</th>\n",
       "      <td>157954</td>\n",
       "      <td>1204</td>\n",
       "      <td>3.0</td>\n",
       "      <td>2001-06-19 17:35:23</td>\n",
       "      <td>Lawrence of Arabia</td>\n",
       "      <td>Adventure,Drama,War</td>\n",
       "      <td>1962</td>\n",
       "    </tr>\n",
       "  </tbody>\n",
       "</table>\n",
       "</div>"
      ],
      "text/plain": [
       "   userId  movieId  rating           timestamp  \\\n",
       "0  157954     1198     5.0 2001-06-19 17:07:43   \n",
       "1  157954     1199     4.0 2001-06-19 17:46:44   \n",
       "2  157954     1200     5.0 2001-06-19 17:08:37   \n",
       "3  157954     1201     3.0 2001-06-19 17:09:36   \n",
       "4  157954     1204     3.0 2001-06-19 17:35:23   \n",
       "\n",
       "                                               title  \\\n",
       "0  Raiders of the Lost Ark (Indiana Jones and the...   \n",
       "1                                            Brazil    \n",
       "2                                            Aliens    \n",
       "3  Good, the Bad and the Ugly, The (Buono, il bru...   \n",
       "4                                Lawrence of Arabia    \n",
       "\n",
       "                           genres  year  \n",
       "0                Action,Adventure  1981  \n",
       "1                  Fantasy,Sci-Fi  1985  \n",
       "2  Action,Adventure,Horror,Sci-Fi  1986  \n",
       "3        Action,Adventure,Western  1966  \n",
       "4             Adventure,Drama,War  1962  "
      ]
     },
     "execution_count": 25,
     "metadata": {},
     "output_type": "execute_result"
    }
   ],
   "source": [
    "#remove the space between words in genre column\n",
    "filteredratings_df['genres'] = filteredratings_df['genres'].str.replace(' ','')\n",
    "filteredratings_df.head()"
   ]
  },
  {
   "cell_type": "code",
   "execution_count": 26,
   "metadata": {
    "colab": {
     "base_uri": "https://localhost:8080/"
    },
    "id": "uGyfCWGH5y94",
    "outputId": "2754d483-679b-4146-f19a-e2b013038104"
   },
   "outputs": [
    {
     "data": {
      "text/plain": [
       "{'(nogenreslisted)',\n",
       " 'Action',\n",
       " 'Adventure',\n",
       " 'Animation',\n",
       " 'Children',\n",
       " 'Comedy',\n",
       " 'Crime',\n",
       " 'Documentary',\n",
       " 'Drama',\n",
       " 'Fantasy',\n",
       " 'Film-Noir',\n",
       " 'Horror',\n",
       " 'IMAX',\n",
       " 'Musical',\n",
       " 'Mystery',\n",
       " 'Romance',\n",
       " 'Sci-Fi',\n",
       " 'Thriller',\n",
       " 'War',\n",
       " 'Western'}"
      ]
     },
     "execution_count": 26,
     "metadata": {},
     "output_type": "execute_result"
    }
   ],
   "source": [
    "# Create genre labels\n",
    "genrelabels = set()\n",
    "for i in filteredratings_df['genres'].str.split(',').values:\n",
    "    genrelabels = genrelabels.union(set(i))\n",
    "\n",
    "genrelabels"
   ]
  },
  {
   "cell_type": "code",
   "execution_count": 28,
   "metadata": {
    "colab": {
     "base_uri": "https://localhost:8080/",
     "height": 206
    },
    "id": "fL-2D-gsSMtq",
    "outputId": "53bfa18c-6be3-4bf3-b1a4-ceabfef69bb9"
   },
   "outputs": [
    {
     "data": {
      "text/html": [
       "<div>\n",
       "<style scoped>\n",
       "    .dataframe tbody tr th:only-of-type {\n",
       "        vertical-align: middle;\n",
       "    }\n",
       "\n",
       "    .dataframe tbody tr th {\n",
       "        vertical-align: top;\n",
       "    }\n",
       "\n",
       "    .dataframe thead th {\n",
       "        text-align: right;\n",
       "    }\n",
       "</style>\n",
       "<table border=\"1\" class=\"dataframe\">\n",
       "  <thead>\n",
       "    <tr style=\"text-align: right;\">\n",
       "      <th></th>\n",
       "      <th>userId</th>\n",
       "      <th>movieId</th>\n",
       "      <th>rating</th>\n",
       "    </tr>\n",
       "  </thead>\n",
       "  <tbody>\n",
       "    <tr>\n",
       "      <th>0</th>\n",
       "      <td>157954</td>\n",
       "      <td>1198</td>\n",
       "      <td>5.0</td>\n",
       "    </tr>\n",
       "    <tr>\n",
       "      <th>1</th>\n",
       "      <td>157954</td>\n",
       "      <td>1199</td>\n",
       "      <td>4.0</td>\n",
       "    </tr>\n",
       "    <tr>\n",
       "      <th>2</th>\n",
       "      <td>157954</td>\n",
       "      <td>1200</td>\n",
       "      <td>5.0</td>\n",
       "    </tr>\n",
       "    <tr>\n",
       "      <th>3</th>\n",
       "      <td>157954</td>\n",
       "      <td>1201</td>\n",
       "      <td>3.0</td>\n",
       "    </tr>\n",
       "    <tr>\n",
       "      <th>4</th>\n",
       "      <td>157954</td>\n",
       "      <td>1204</td>\n",
       "      <td>3.0</td>\n",
       "    </tr>\n",
       "  </tbody>\n",
       "</table>\n",
       "</div>"
      ],
      "text/plain": [
       "   userId  movieId  rating\n",
       "0  157954     1198     5.0\n",
       "1  157954     1199     4.0\n",
       "2  157954     1200     5.0\n",
       "3  157954     1201     3.0\n",
       "4  157954     1204     3.0"
      ]
     },
     "execution_count": 28,
     "metadata": {},
     "output_type": "execute_result"
    }
   ],
   "source": [
    " cleanratings=filteredratings_df.drop(['timestamp','title','genres','year'],axis=1)\n",
    " cleanratings.head()"
   ]
  },
  {
   "cell_type": "code",
   "execution_count": 29,
   "metadata": {},
   "outputs": [],
   "source": [
    "#export cleaned csv for import into Postgres\n",
    "cleanratings.to_csv('../clean_data_tables/cleanratings.csv', index=False)"
   ]
  },
  {
   "cell_type": "code",
   "execution_count": 34,
   "metadata": {},
   "outputs": [
    {
     "name": "stdout",
     "output_type": "stream",
     "text": [
      "importing rows 0 to 1000000...Done. 63.49744462966919 total seconds elapsed\n",
      "importing rows 1000000 to 2000000...Done. 128.67687034606934 total seconds elapsed\n",
      "importing rows 2000000 to 3000000...Done. 193.32205772399902 total seconds elapsed\n",
      "importing rows 3000000 to 4000000...Done. 257.90518617630005 total seconds elapsed\n",
      "importing rows 4000000 to 5000000...Done. 322.13034653663635 total seconds elapsed\n",
      "importing rows 5000000 to 6000000...Done. 386.3369960784912 total seconds elapsed\n",
      "importing rows 6000000 to 7000000...Done. 451.69865441322327 total seconds elapsed\n",
      "importing rows 7000000 to 8000000...Done. 516.9866800308228 total seconds elapsed\n",
      "importing rows 8000000 to 9000000...Done. 582.9434525966644 total seconds elapsed\n",
      "importing rows 9000000 to 10000000...Done. 648.6742398738861 total seconds elapsed\n",
      "importing rows 10000000 to 11000000...Done. 713.5738348960876 total seconds elapsed\n",
      "importing rows 11000000 to 12000000...Done. 778.9942197799683 total seconds elapsed\n",
      "importing rows 12000000 to 13000000...Done. 844.5058877468109 total seconds elapsed\n",
      "importing rows 13000000 to 14000000...Done. 911.0507276058197 total seconds elapsed\n",
      "importing rows 14000000 to 15000000...Done. 976.3351287841797 total seconds elapsed\n",
      "importing rows 15000000 to 16000000...Done. 1041.5874786376953 total seconds elapsed\n",
      "importing rows 16000000 to 17000000...Done. 1107.7249603271484 total seconds elapsed\n",
      "importing rows 17000000 to 18000000...Done. 1173.6115243434906 total seconds elapsed\n",
      "importing rows 18000000 to 19000000...Done. 1240.4956922531128 total seconds elapsed\n",
      "importing rows 19000000 to 19761870...Done. 1291.2946417331696 total seconds elapsed\n"
     ]
    }
   ],
   "source": [
    "#load cleanratings table into SQL\n",
    "\n",
    "# chunk csv data, print rows being exported, run timer\n",
    "rows_imported = 0\n",
    "start_time = time.time()\n",
    "for data in pd.read_csv('../clean_data_tables/cleanratings.csv', chunksize=1000000):\n",
    "\n",
    "    print(f'importing rows {rows_imported} to {rows_imported + len(data)}...', end='')  \n",
    "    data.to_sql(name='Model_Refined_Data', con=engine, if_exists='append')\n",
    "    rows_imported += len(data)\n",
    "    \n",
    "    print(f'Done. {time.time() - start_time} total seconds elapsed')"
   ]
  }
 ],
 "metadata": {
  "colab": {
   "collapsed_sections": [],
   "machine_shape": "hm",
   "name": "DataCleaning.ipynb",
   "provenance": []
  },
  "kernelspec": {
   "display_name": "Python 3",
   "language": "python",
   "name": "python3"
  },
  "language_info": {
   "codemirror_mode": {
    "name": "ipython",
    "version": 3
   },
   "file_extension": ".py",
   "mimetype": "text/x-python",
   "name": "python",
   "nbconvert_exporter": "python",
   "pygments_lexer": "ipython3",
   "version": "3.8.8"
  }
 },
 "nbformat": 4,
 "nbformat_minor": 1
}
